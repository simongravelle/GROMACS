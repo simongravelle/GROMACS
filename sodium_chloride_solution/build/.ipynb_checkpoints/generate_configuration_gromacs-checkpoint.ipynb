{
 "cells": [
  {
   "cell_type": "code",
   "execution_count": 1,
   "metadata": {},
   "outputs": [],
   "source": [
    "import copy\n",
    "import random\n",
    "import numpy as np\n",
    "from numpy.linalg import norm\n",
    "import matplotlib.pyplot as plt\n",
    "from scipy.spatial.transform import Rotation as R"
   ]
  },
  {
   "cell_type": "markdown",
   "metadata": {},
   "source": [
    "## Define functions"
   ]
  },
  {
   "cell_type": "code",
   "execution_count": 2,
   "metadata": {},
   "outputs": [],
   "source": [
    "def generate_random_location(Lx, Ly, Lz, recenter=True):\n",
    "    \"\"\"\n",
    "    generate a random location within a given box\n",
    "    \"\"\"  \n",
    "    if recenter == True:\n",
    "        x = np.random.rand()*Lx-Lx/2\n",
    "        y = np.random.rand()*Ly-Ly/2\n",
    "        z = np.random.rand()*Lz-Lz/2\n",
    "    else:\n",
    "        x = np.random.rand()*Lx\n",
    "        y = np.random.rand()*Ly\n",
    "        z = np.random.rand()*Lz   \n",
    "    return x, y, z\n",
    "\n",
    "def generate_random_orientation(XYZ_initial):\n",
    "    \"\"\"\n",
    "    generate 3D aleatory rotation for molecule coordinate\n",
    "    \"\"\"\n",
    "    rotation_degrees = np.random.rand()*90\n",
    "    rotation_radians = np.radians(rotation_degrees)\n",
    "    rotation_axis = np.array([np.random.rand(), \n",
    "                              np.random.rand(), \n",
    "                              np.random.rand()])\n",
    "    rotation_axis /= np.linalg.norm(rotation_axis)\n",
    "    rotation_vector = rotation_radians * rotation_axis\n",
    "    rotation = R.from_rotvec(rotation_vector)\n",
    "    XYZ_rotated = rotation.apply(XYZ_initial)\n",
    "    return XYZ_rotated\n",
    "\n",
    "\n",
    "def search_closest_neighbor(XYZ_neighbor, XYZ_molecule, Lx, Ly, Lz):\n",
    "    \"\"\"\n",
    "        Search neighbor in a box and return the closest distance with a molecule\n",
    "        \n",
    "        Periodic boundary conditions are automaticaly accounted\n",
    "    \"\"\"\n",
    "    box = np.array([Lx, Ly, Lz])\n",
    "    min_distance = np.max(box)\n",
    "    for XYZ_atom in XYZ_molecule:\n",
    "        dxdydz = np.remainder(XYZ_neighbor - XYZ_atom + box/2., box) - box/2.\n",
    "        min_distance = np.min([min_distance,np.min(norm(dxdydz,axis=1))])\n",
    "    return min_distance"
   ]
  },
  {
   "cell_type": "markdown",
   "metadata": {},
   "source": [
    "## Set number of each species given a concentration $c$"
   ]
  },
  {
   "cell_type": "code",
   "execution_count": 3,
   "metadata": {},
   "outputs": [],
   "source": [
    "Na = 6.022e23  # constants.Avogadro\n",
    "Mh2o = 0.018053  # kg/mol - water\n",
    "total_number_species = 2000 # total desired number of molecule + ions\n",
    "# desired concentration in mol/L\n",
    "c = 1 \n",
    "nion = c * total_number_species * Mh2o / (2 * (1 + Mh2o * c))  # desired number for each ion\n",
    "nwater = total_number_species - 2 * nion  # desired number of water molecules"
   ]
  },
  {
   "cell_type": "markdown",
   "metadata": {},
   "source": [
    "## Initial parameters for atoms placement"
   ]
  },
  {
   "cell_type": "code",
   "execution_count": 4,
   "metadata": {},
   "outputs": [],
   "source": [
    "cut_off = 2  # in angstrom\n",
    "delta = 2.6  # in angstrom"
   ]
  },
  {
   "cell_type": "markdown",
   "metadata": {},
   "source": [
    "## TIP4P/epsilon water parameters"
   ]
  },
  {
   "cell_type": "code",
   "execution_count": 5,
   "metadata": {},
   "outputs": [],
   "source": [
    "H2O_XYZ = np.array([[0, 0, 0], \\\n",
    "       [0.5858,   0.757, 0.0], \\\n",
    "       [0.5858,   -0.757,  0.0], \\\n",
    "       [0.104,  0.0, 0.0]])\n",
    "H2O_type = ['OW', 'HW1', 'HW2', 'MW']"
   ]
  },
  {
   "cell_type": "markdown",
   "metadata": {},
   "source": [
    "## Main loop for positioning the atoms"
   ]
  },
  {
   "cell_type": "code",
   "execution_count": 6,
   "metadata": {},
   "outputs": [],
   "source": [
    "# the box size is increased until the desired number\n",
    "# of species has been added to the box\n",
    "cpt_H2O = 0\n",
    "cpt_Cl = 0\n",
    "cpt_Na = 0\n",
    "attempts = 0\n",
    "while cpt_H2O+cpt_Na+cpt_Cl < total_number_species:\n",
    "    # increase box size by 5A after each attemps\n",
    "    L = 20 + attempts * 5\n",
    "    Lx, Ly, Lz = L, L, L\n",
    "    \n",
    "    cpt_atom = 0\n",
    "    cpt_H2O = 0\n",
    "    cpt_Cl = 0\n",
    "    cpt_Na = 0\n",
    "    min_distance = 10\n",
    "    \n",
    "    atom_XYZ = []\n",
    "    atom_type = []\n",
    "    atom_id = []\n",
    "    atom_name = []\n",
    "    residue_number = []\n",
    "    residue_name = []\n",
    "    \n",
    "    # add Cl randomly\n",
    "    while cpt_Cl < nion:\n",
    "        x, y, z = generate_random_location(Lx, Ly, Lz, recenter = False)\n",
    "        if cpt_atom > 0:\n",
    "            min_distance = search_closest_neighbor(np.array(atom_XYZ), [x, y, z], Lx, Ly, Lz)\n",
    "        if min_distance > cut_off:\n",
    "            atom_XYZ.append([x, y, z])\n",
    "            atom_type.append(\"Cl\")\n",
    "            atom_id.append(cpt_atom+1)\n",
    "            atom_name.append(\"Cl\")\n",
    "            residue_number.append(cpt_Cl+cpt_Na+cpt_H2O+1)\n",
    "            residue_name.append(\"Cl\")\n",
    "            cpt_atom += 1\n",
    "            cpt_Cl += 1\n",
    "\n",
    "    # add Na randomly\n",
    "    while cpt_Na < nion:\n",
    "        x, y, z = generate_random_location(Lx, Ly, Lz, recenter = False)\n",
    "        if cpt_atom > 0:\n",
    "            min_distance = search_closest_neighbor(np.array(atom_XYZ), [x, y, z], Lx, Ly, Lz)\n",
    "        if min_distance > cut_off:\n",
    "            atom_XYZ.append([x, y, z])\n",
    "            atom_type.append(\"Na\")\n",
    "            atom_id.append(cpt_atom+1)\n",
    "            atom_name.append(\"Na\")\n",
    "            residue_number.append(cpt_Cl+cpt_Na+cpt_H2O+1)\n",
    "            residue_name.append(\"Na\")\n",
    "            cpt_atom += 1\n",
    "            cpt_Na += 1\n",
    "\n",
    "    # ordered placement of water molecules\n",
    "    for x in np.arange(0, Lx, delta):\n",
    "        for y in np.arange(0, Ly, delta):\n",
    "            for z in np.arange(0, Lz, delta):\n",
    "                dx, dy, dz = generate_random_location(0.1, 0.1, 0.1, recenter = True)\n",
    "                H2O_XYZ = generate_random_orientation(H2O_XYZ)\n",
    "                min_distance = search_closest_neighbor(np.array(atom_XYZ),\n",
    "                                                       H2O_XYZ + [x, y, z] + [dx, dy, dz],\n",
    "                                                       Lx, Ly, Lz)\n",
    "                if (min_distance > cut_off) & (cpt_H2O+cpt_Na+cpt_Cl < total_number_species) :\n",
    "                    cpt_H2O += 1\n",
    "                    for cpt in range(len(H2O_type)):\n",
    "                        atom_XYZ.append(H2O_XYZ[cpt]+ [x, y, z])\n",
    "                        atom_type.append(H2O_type[cpt])\n",
    "                        atom_id.append(cpt_atom+1)\n",
    "                        atom_name.append(H2O_type[cpt])\n",
    "                        residue_number.append(cpt_Cl+cpt_Na+cpt_H2O+1)\n",
    "                        residue_name.append(\"SOL\")\n",
    "                        cpt_atom += 1  \n",
    "                        \n",
    "    attempts += 1"
   ]
  },
  {
   "cell_type": "code",
   "execution_count": 7,
   "metadata": {},
   "outputs": [
    {
     "name": "stdout",
     "output_type": "stream",
     "text": [
      "Lx = Ly = Lz = 4.5 nm\n",
      "18 Na ions\n",
      "18 Cl ions\n",
      "1964 water molecules\n"
     ]
    }
   ],
   "source": [
    "print('Lx = Ly = Lz = '+str(Lx/10)+' nm')\n",
    "print(str(cpt_Na)+' Na ions') \n",
    "print(str(cpt_Cl)+' Cl ions')\n",
    "print(str(cpt_H2O)+' water molecules')"
   ]
  },
  {
   "cell_type": "markdown",
   "metadata": {},
   "source": [
    "## Write .gro file"
   ]
  },
  {
   "cell_type": "code",
   "execution_count": 8,
   "metadata": {},
   "outputs": [],
   "source": [
    "f = open('conf.gro', 'w')\n",
    "f.write('Bulk Na Cl electrolyte\\n')\n",
    "f.write(str(cpt_atom)+\"\\n\")\n",
    "for cpt in range(cpt_atom):\n",
    "    # residue number (5 positions, integer) \n",
    "    f.write(\"{: >5}\".format(str(residue_number[cpt])))\n",
    "    # residue name (5 characters) \n",
    "    f.write(\"{: >5}\".format(str(residue_name[cpt])))\n",
    "    # atom name (5 characters) \n",
    "    f.write(\"{: >5}\".format(str(atom_name[cpt])))\n",
    "    # atom number (5 positions, integer)\n",
    "    f.write(\"{: >5}\".format(str(atom_id[cpt]))) \n",
    "    # position (in nm, x y z in 3 columns, each 8 positions \n",
    "    #with 3 decimal places)\n",
    "    f.write(\"{: >8}\".format(str(\"{:.3f}\".format(atom_XYZ[cpt][0]/10))))\n",
    "    f.write(\"{: >8}\".format(str(\"{:.3f}\".format(atom_XYZ[cpt][1]/10))))\n",
    "    f.write(\"{: >8}\".format(str(\"{:.3f}\".format(atom_XYZ[cpt][2]/10))))\n",
    "    f.write(\"\\n\")\n",
    "f.write(\"{: >10}\".format(str(\"{:.5f}\".format(Lx/10))))\n",
    "f.write(\"{: >10}\".format(str(\"{:.5f}\".format(Ly/10))))\n",
    "f.write(\"{: >10}\".format(str(\"{:.5f}\".format(Lz/10))))\n",
    "f.close()"
   ]
  },
  {
   "cell_type": "markdown",
   "metadata": {},
   "source": [
    "## Write .top file"
   ]
  },
  {
   "cell_type": "code",
   "execution_count": 9,
   "metadata": {},
   "outputs": [],
   "source": [
    "f = open('topol.top', 'w')\n",
    "f.write('#include \"../ff/forcefield.itp\"\\n')\n",
    "f.write('#include \"../ff/tip4peps.itp\"\\n')\n",
    "f.write('#include \"../ff/ions.itp\"\\n\\n')\n",
    "f.write('[ System ]\\n')\n",
    "f.write('Bulk Na Cl electrolyte\\n\\n')\n",
    "f.write('[ Molecules ]\\n\\n')\n",
    "if cpt_Cl>0:\n",
    "    f.write('Cl '+ str(cpt_Cl)+'\\n')\n",
    "if cpt_Na>0:\n",
    "    f.write('Na '+ str(cpt_Na)+'\\n')\n",
    "if cpt_H2O>0:\n",
    "    f.write('SOL '+ str(cpt_H2O)+'\\n')\n",
    "f.close()"
   ]
  },
  {
   "cell_type": "code",
   "execution_count": null,
   "metadata": {},
   "outputs": [],
   "source": []
  }
 ],
 "metadata": {
  "kernelspec": {
   "display_name": "Python 3",
   "language": "python",
   "name": "python3"
  },
  "language_info": {
   "codemirror_mode": {
    "name": "ipython",
    "version": 3
   },
   "file_extension": ".py",
   "mimetype": "text/x-python",
   "name": "python",
   "nbconvert_exporter": "python",
   "pygments_lexer": "ipython3",
   "version": "3.8.10"
  }
 },
 "nbformat": 4,
 "nbformat_minor": 2
}
